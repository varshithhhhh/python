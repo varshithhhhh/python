{
  "nbformat": 4,
  "nbformat_minor": 0,
  "metadata": {
    "colab": {
      "provenance": [],
      "include_colab_link": true
    },
    "kernelspec": {
      "name": "python3",
      "display_name": "Python 3"
    },
    "language_info": {
      "name": "python"
    }
  },
  "cells": [
    {
      "cell_type": "markdown",
      "metadata": {
        "id": "view-in-github",
        "colab_type": "text"
      },
      "source": [
        "<a href=\"https://colab.research.google.com/github/varshithhhhh/python/blob/main/Task7.ipynb\" target=\"_parent\"><img src=\"https://colab.research.google.com/assets/colab-badge.svg\" alt=\"Open In Colab\"/></a>"
      ]
    },
    {
      "cell_type": "code",
      "execution_count": null,
      "metadata": {
        "colab": {
          "base_uri": "https://localhost:8080/"
        },
        "id": "sCpE-wZGoqn2",
        "outputId": "d1edf1c2-d73f-43c6-8ad6-7f2d5b83560e"
      },
      "outputs": [
        {
          "output_type": "stream",
          "name": "stdout",
          "text": [
            "Adult tickets:  [202, 410, 620, 830, 1080]\n",
            "Child tickets:  [101, 305, 513, 723, 915]\n"
          ]
        }
      ],
      "source": [
        "def categorize_tickets(ticket_ids):\n",
        "    adult_tickets = list(filter(lambda x: x % 2 == 0, ticket_ids))\n",
        "    child_tickets = list(filter(lambda x: x % 2 != 0, ticket_ids))\n",
        "    return adult_tickets, child_tickets\n",
        "\n",
        "ticket_ids = [101, 202, 305, 410, 513, 620, 723, 830, 915, 1080]\n",
        "adult_tickets, child_tickets = categorize_tickets(ticket_ids)\n",
        "print(\"Adult tickets: \", adult_tickets)\n",
        "print(\"Child tickets: \", child_tickets)\n"
      ]
    },
    {
      "cell_type": "code",
      "source": [
        "def func_compute(n):\n",
        "    return lambda x: x * n\n",
        "\n",
        "result = func_compute(2)\n",
        "print(\"Double the number of 15 = \", result(15))\n",
        "\n",
        "result = func_compute(3)\n",
        "print(\"Triple the number of 15 = \", result(15))\n",
        "\n",
        "result = func_compute(4)\n",
        "print(\"Quadruple the number of 15 = \", result(15))\n",
        "\n",
        "result = func_compute(5)\n",
        "print(\"Quintuple the number of 15 = \", result(15))\n"
      ],
      "metadata": {
        "colab": {
          "base_uri": "https://localhost:8080/"
        },
        "id": "ZL8kRm4Kp8sY",
        "outputId": "e27707ea-467f-4972-a875-028f857607af"
      },
      "execution_count": null,
      "outputs": [
        {
          "output_type": "stream",
          "name": "stdout",
          "text": [
            "Double the number of 15 =  30\n",
            "Triple the number of 15 =  45\n",
            "Quadruple the number of 15 =  60\n",
            "Quintuple the number of 15 =  75\n"
          ]
        }
      ]
    },
    {
      "cell_type": "code",
      "source": [
        "def cube_product_of_natural_numbers(n):\n",
        "    product = 1\n",
        "    for i in range(1, n + 1):\n",
        "        product *= i**3\n",
        "    return product\n",
        "\n",
        "n = int(input(\"Enter the value of n: \"))\n",
        "result = cube_product_of_natural_numbers(n)\n",
        "print(\"Cube product of the first\", n, \"natural numbers is:\", result)\n"
      ],
      "metadata": {
        "colab": {
          "base_uri": "https://localhost:8080/"
        },
        "id": "TuLTs0tKqEK2",
        "outputId": "5d6727e4-2b43-433d-dc02-a913bd57c8c5"
      },
      "execution_count": null,
      "outputs": [
        {
          "output_type": "stream",
          "name": "stdout",
          "text": [
            "Enter the value of n: 4\n",
            "Cube product of the first 4 natural numbers is: 13824\n"
          ]
        }
      ]
    },
    {
      "cell_type": "code",
      "source": [
        "def find_discount(qty):\n",
        "    if qty <= 10:\n",
        "        return 0\n",
        "    elif 11 <= qty <= 30:\n",
        "        return 15\n",
        "    else:\n",
        "        return 20\n",
        "\n",
        "def buy():\n",
        "    Icode = int(input(\"Enter Item Code: \"))\n",
        "    Item = input(\"Enter Item name: \")\n",
        "    Price = float(input(\"Enter Price: \"))\n",
        "    Qty = int(input(\"Enter Quantity: \"))\n",
        "    discount_rate = find_discount(Qty)\n",
        "    Discount = Price * Qty * discount_rate / 100\n",
        "    NetPrice = Price * Qty - Discount\n",
        "    return Icode, Item, Price, Qty, Discount, NetPrice\n",
        "\n",
        "def showall(Icode, Item, Price, Qty, Discount, NetPrice):\n",
        "    print(\"Item Code:\", Icode)\n",
        "    print(\"Item:\", Item)\n",
        "    print(\"Price:\", Price)\n",
        "    print(\"Quantity:\", Qty)\n",
        "    print(\"Discount:\", Discount)\n",
        "    print(\"Net Price:\", NetPrice)\n",
        "\n",
        "# Example usage:\n",
        "details = buy()\n",
        "showall(*details)\n"
      ],
      "metadata": {
        "colab": {
          "base_uri": "https://localhost:8080/"
        },
        "id": "oMMSjCzdqJEW",
        "outputId": "3e47b139-1a61-43fe-ad18-3a345440bf5b"
      },
      "execution_count": null,
      "outputs": [
        {
          "output_type": "stream",
          "name": "stdout",
          "text": [
            "Enter Item Code: 143\n",
            "Enter Item name: Bathaya\n",
            "Enter Price: 2300\n",
            "Enter Quantity: 2\n",
            "Item Code: 143\n",
            "Item: Bathaya\n",
            "Price: 2300.0\n",
            "Quantity: 2\n",
            "Discount: 0.0\n",
            "Net Price: 4600.0\n"
          ]
        }
      ]
    }
  ]
}