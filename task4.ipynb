{
  "nbformat": 4,
  "nbformat_minor": 0,
  "metadata": {
    "colab": {
      "provenance": [],
      "include_colab_link": true
    },
    "kernelspec": {
      "name": "python3",
      "display_name": "Python 3"
    },
    "language_info": {
      "name": "python"
    }
  },
  "cells": [
    {
      "cell_type": "markdown",
      "metadata": {
        "id": "view-in-github",
        "colab_type": "text"
      },
      "source": [
        "<a href=\"https://colab.research.google.com/github/varshithhhhh/python/blob/main/task4.ipynb\" target=\"_parent\"><img src=\"https://colab.research.google.com/assets/colab-badge.svg\" alt=\"Open In Colab\"/></a>"
      ]
    },
    {
      "cell_type": "code",
      "execution_count": null,
      "metadata": {
        "colab": {
          "base_uri": "https://localhost:8080/"
        },
        "id": "3PiCWGq7jl5I",
        "outputId": "f26b3837-0638-4201-e465-03a25d3adf4b"
      },
      "outputs": [
        {
          "output_type": "stream",
          "name": "stdout",
          "text": [
            "Enter the total test case: 5\n",
            "aaabba\n",
            "2\n",
            "bbbaab\n",
            "2\n",
            "abbbb\n",
            "1\n",
            "babababbb\n",
            "3\n",
            "ababbbbb\n",
            "2\n"
          ]
        }
      ],
      "source": [
        "def min_paint_balloons(s):\n",
        "    amber_count = s.count('a')\n",
        "    brass_count = s.count('b')\n",
        "    min_paint = min(amber_count, brass_count)\n",
        "    return min_paint\n",
        "\n",
        "T = int(input(\"Enter the total test case: \"))\n",
        "for i in range(T):\n",
        "    s = input().strip()\n",
        "    print(min_paint_balloons(s))\n"
      ]
    },
    {
      "cell_type": "code",
      "source": [
        "alist = []\n",
        "\n",
        "for i in range(int(input())):\n",
        "    name = input()\n",
        "    score = float(input())\n",
        "    alist.append([name, score])\n",
        "\n",
        "second_highest = sorted(set([score for name, score in alist]))[1]\n",
        "\n",
        "print('\\n'.join(sorted([name for name, score in alist if score == second_highest])))\n"
      ],
      "metadata": {
        "colab": {
          "base_uri": "https://localhost:8080/"
        },
        "id": "RWr-FxLikiRg",
        "outputId": "a538b3ca-c025-473d-8378-5dd854b4756a"
      },
      "execution_count": null,
      "outputs": [
        {
          "output_type": "stream",
          "name": "stdout",
          "text": [
            "4\n",
            "sri\n",
            "9\n",
            "sai\n",
            "2\n",
            "teja\n",
            "2\n",
            "sangati\n",
            "4\n",
            "sangati\n"
          ]
        }
      ]
    },
    {
      "cell_type": "code",
      "source": [
        "n = int(input())\n",
        "a = map(int, input().split())\n",
        "t = tuple(a)\n",
        "print(hash(t))\n"
      ],
      "metadata": {
        "colab": {
          "base_uri": "https://localhost:8080/"
        },
        "id": "rdzFAbEnkvmm",
        "outputId": "2d4ccd2e-2df2-4699-d06a-15c513e2532d"
      },
      "execution_count": null,
      "outputs": [
        {
          "output_type": "stream",
          "name": "stdout",
          "text": [
            "3\n",
            "2 4 3\n",
            "-6868748030358782985\n"
          ]
        }
      ]
    },
    {
      "cell_type": "code",
      "source": [
        "sample = []\n",
        "\n",
        "sample.insert(0, 12)\n",
        "print(sample)\n",
        "\n",
        "sample.insert(1, 4)\n",
        "print(sample)\n",
        "\n",
        "sample.insert(2, 2)\n",
        "print(sample)\n",
        "\n",
        "sample.insert(3, 4)\n",
        "print(sample)\n",
        "\n",
        "sample.remove(4)\n",
        "print(sample)\n",
        "\n",
        "sample.append(21)\n",
        "print(sample)\n",
        "\n",
        "sample.sort()\n"
      ],
      "metadata": {
        "colab": {
          "base_uri": "https://localhost:8080/"
        },
        "id": "yNB0ML2Zk5sV",
        "outputId": "aa7abddb-5d0b-4ea7-819e-858876b228a1"
      },
      "execution_count": null,
      "outputs": [
        {
          "output_type": "stream",
          "name": "stdout",
          "text": [
            "[12]\n",
            "[12, 4]\n",
            "[12, 4, 2]\n",
            "[12, 4, 2, 4]\n",
            "[12, 2, 4]\n",
            "[12, 2, 4, 21]\n"
          ]
        }
      ]
    }
  ]
}