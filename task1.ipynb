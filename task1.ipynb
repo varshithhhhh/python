{
  "nbformat": 4,
  "nbformat_minor": 0,
  "metadata": {
    "colab": {
      "provenance": [],
      "include_colab_link": true
    },
    "kernelspec": {
      "name": "python3",
      "display_name": "Python 3"
    },
    "language_info": {
      "name": "python"
    }
  },
  "cells": [
    {
      "cell_type": "markdown",
      "metadata": {
        "id": "view-in-github",
        "colab_type": "text"
      },
      "source": [
        "<a href=\"https://colab.research.google.com/github/varshithhhhh/python/blob/main/task1.ipynb\" target=\"_parent\"><img src=\"https://colab.research.google.com/assets/colab-badge.svg\" alt=\"Open In Colab\"/></a>"
      ]
    },
    {
      "cell_type": "code",
      "execution_count": null,
      "metadata": {
        "colab": {
          "base_uri": "https://localhost:8080/"
        },
        "id": "rpmGVfI-bSKn",
        "outputId": "98d2b84f-a7c3-46b9-860c-9d6d97b17ea1"
      },
      "outputs": [
        {
          "output_type": "stream",
          "name": "stdout",
          "text": [
            "Enter the number: 4\n",
            "3 4\n",
            "7\n",
            "1 7\n",
            "8\n",
            "6 6\n",
            "12\n",
            "4 7\n",
            "11\n"
          ]
        }
      ],
      "source": [
        "def calculate_total_cost(x, y):\n",
        "    return x + y\n",
        "\n",
        "# Input the number of test cases\n",
        "t = int(input(\"Enter the number: \"))\n",
        "\n",
        "# Iterate through each test case\n",
        "for _ in range(t):\n",
        "    x, y = map(int, input().split())\n",
        "\n",
        "    # Calculate and print amount for the current test case\n",
        "    total_amount = calculate_total_cost(x, y)\n",
        "    print(total_amount)\n"
      ]
    },
    {
      "cell_type": "code",
      "source": [
        "principle = float(input(\"Enter the principle amount: \"))\n",
        "rate = float(input(\"Enter the rate of interest: \"))\n",
        "time = float(input(\"Enter time in years: \"))\n",
        "\n",
        "compound_interest = principle * (1 + rate / 100) ** time\n",
        "print(\"The compound interest is:\", compound_interest)\n"
      ],
      "metadata": {
        "colab": {
          "base_uri": "https://localhost:8080/"
        },
        "id": "mqf-IGbtbqVv",
        "outputId": "56d6940e-acbf-44af-cbfd-5097f63e2718"
      },
      "execution_count": null,
      "outputs": [
        {
          "output_type": "stream",
          "name": "stdout",
          "text": [
            "Enter the principle amount: 400000\n",
            "Enter the rate of interest: 6\n",
            "Enter time in years: 3\n",
            "The compound interest is: 476406.4\n"
          ]
        }
      ]
    },
    {
      "cell_type": "code",
      "source": [
        "# Compute the area of a field, reporting the result in acres\n",
        "SQFT_PER_ACRE = 43560\n",
        "\n",
        "# Read the dimensions from the user\n",
        "length = float(input(\"Enter the length of field in feet: \"))\n",
        "width = float(input(\"Enter the width of field in feet: \"))\n",
        "\n",
        "# Compute the area in acres\n",
        "acres = length * width / SQFT_PER_ACRE\n",
        "\n",
        "# Display the result\n",
        "print(\"The area of field is\", acres, \"acres\")\n"
      ],
      "metadata": {
        "colab": {
          "base_uri": "https://localhost:8080/"
        },
        "id": "YSg1tIoebx2u",
        "outputId": "aa128168-907f-40d9-e4bd-65fb721324c0"
      },
      "execution_count": null,
      "outputs": [
        {
          "output_type": "stream",
          "name": "stdout",
          "text": [
            "Enter the length of field in feet: 35\n",
            "Enter the width of field in feet: 21\n",
            "The area of field is 0.0168732782369146 acres\n"
          ]
        }
      ]
    },
    {
      "cell_type": "code",
      "source": [
        "import math\n",
        "\n",
        "def calculate_area_in_acres(radius_in_feet):\n",
        "    # Convert radius from feet to acres\n",
        "    area_in_acres = math.pi * radius_in_feet ** 2 / 43560\n",
        "    return area_in_acres\n",
        "\n",
        "# Input the radius of field in feet\n",
        "radius_in_feet = float(input(\"Enter the radius of field in feet: \"))\n",
        "\n",
        "# Calculate and print the area of field in acres\n",
        "area_in_acres = calculate_area_in_acres(radius_in_feet)\n",
        "print(\"The area of field is:\", area_in_acres, \"acres\")\n"
      ],
      "metadata": {
        "colab": {
          "base_uri": "https://localhost:8080/"
        },
        "id": "BW1j-GZIb60t",
        "outputId": "5883f61f-2400-44b5-d5c4-73f8076251cf"
      },
      "execution_count": null,
      "outputs": [
        {
          "output_type": "stream",
          "name": "stdout",
          "text": [
            "Enter the radius of field in feet: 30\n",
            "The area of field is: 0.06490893912375606 acres\n"
          ]
        }
      ]
    },
    {
      "cell_type": "code",
      "source": [
        "import math\n",
        "\n",
        "# Function to calculate distance between two points\n",
        "def calculate_distance(x1, y1, x2, y2):\n",
        "    distance = math.sqrt((x2 - x1)**2 + (y2 - y1)**2)\n",
        "    return distance\n",
        "\n",
        "# Input the coordinates of Ram\n",
        "x_ram = float(input(\"Enter the x-coordinate of Ram: \"))\n",
        "y_ram = float(input(\"Enter the y-coordinate of Ram: \"))\n",
        "\n",
        "# Input the coordinates of Sita\n",
        "x_sita = float(input(\"Enter the x-coordinate of Sita: \"))\n",
        "y_sita = float(input(\"Enter the y-coordinate of Sita: \"))\n",
        "\n",
        "# Calculate and print the distance between Ram and Sita\n",
        "distance_between_them = calculate_distance(x_ram, y_ram, x_sita, y_sita)\n",
        "print(\"The distance between Ram and Sita is:\", distance_between_them)\n"
      ],
      "metadata": {
        "colab": {
          "base_uri": "https://localhost:8080/"
        },
        "id": "oG-tWbawcAGm",
        "outputId": "d8571865-3555-470b-d37f-a7d10a894959"
      },
      "execution_count": null,
      "outputs": [
        {
          "output_type": "stream",
          "name": "stdout",
          "text": [
            "Enter the x-coordinate of Ram: 10\n",
            "Enter the y-coordinate of Ram: 20\n",
            "Enter the x-coordinate of Sita: 30\n",
            "Enter the y-coordinate of Sita: 10\n",
            "The distance between Ram and Sita is: 22.360679774997898\n"
          ]
        }
      ]
    }
  ]
}