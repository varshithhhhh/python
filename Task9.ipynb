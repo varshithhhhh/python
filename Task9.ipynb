{
  "nbformat": 4,
  "nbformat_minor": 0,
  "metadata": {
    "colab": {
      "provenance": [],
      "include_colab_link": true
    },
    "kernelspec": {
      "name": "python3",
      "display_name": "Python 3"
    },
    "language_info": {
      "name": "python"
    }
  },
  "cells": [
    {
      "cell_type": "markdown",
      "metadata": {
        "id": "view-in-github",
        "colab_type": "text"
      },
      "source": [
        "<a href=\"https://colab.research.google.com/github/varshithhhhh/python/blob/main/Task9.ipynb\" target=\"_parent\"><img src=\"https://colab.research.google.com/assets/colab-badge.svg\" alt=\"Open In Colab\"/></a>"
      ]
    },
    {
      "cell_type": "code",
      "execution_count": null,
      "metadata": {
        "colab": {
          "base_uri": "https://localhost:8080/"
        },
        "id": "5OQVi9Fer3C9",
        "outputId": "29af3d2c-a110-4710-8e18-c7a975ceefe2"
      },
      "outputs": [
        {
          "output_type": "stream",
          "name": "stdout",
          "text": [
            "Enter the initial investment amount: 25000\n",
            "Enter the final investment amount: 50000\n",
            "Return on investment (ROI): 100.00%\n"
          ]
        }
      ],
      "source": [
        "try:\n",
        "    # Attempt to get the initial investment amount from the user\n",
        "    initial_investment = float(input(\"Enter the initial investment amount: \"))\n",
        "\n",
        "    # Attempt to get the final investment amount from the user\n",
        "    final_investment = float(input(\"Enter the final investment amount: \"))\n",
        "\n",
        "    # Calculate the return on investment (ROI)\n",
        "    roi = (final_investment - initial_investment) / initial_investment * 100\n",
        "\n",
        "    print(\"Return on investment (ROI): {:.2f}%\".format(roi))\n",
        "\n",
        "except ValueError:\n",
        "    # Handle the ValueError exception\n",
        "    print(\"Error: Please enter a valid numeric value for the investment amount.\")\n",
        "\n",
        "except ZeroDivisionError:\n",
        "    # Handle the ZeroDivisionError exception\n",
        "    print(\"Error: Initial investment amount cannot be zero.\")\n"
      ]
    },
    {
      "cell_type": "code",
      "source": [
        "def view_seat_details(seat_list, index):\n",
        "    try:\n",
        "        seat = seat_list[index]\n",
        "        print(\"Seat details:\")\n",
        "        print(\"Seat number:\", seat.get(\"number\"))\n",
        "        print(\"Section:\", seat.get(\"section\"))\n",
        "        print(\"Availability:\", \"Booked\" if seat.get(\"is_booked\") else \"Available\")\n",
        "    except IndexError:\n",
        "        print(\"Invalid seat index. Please select a valid seat.\")\n",
        "\n",
        "# Sample list of seats\n",
        "seats = [\n",
        "    {\"number\": \"A1\", \"section\": \"VIP\", \"is_booked\": False},\n",
        "    {\"number\": \"A2\", \"section\": \"VIP\", \"is_booked\": True},\n",
        "    {\"number\": \"B1\", \"section\": \"General\", \"is_booked\": False},\n",
        "    {\"number\": \"B2\", \"section\": \"General\", \"is_booked\": False}\n",
        "]\n",
        "\n",
        "# Test the function\n",
        "try:\n",
        "    seat_index = int(input(\"Enter the index of the seat you want to view: \"))\n",
        "    view_seat_details(seats, seat_index)\n",
        "except ValueError:\n",
        "    print(\"Invalid input. Please enter a valid seat index (integer).\")\n"
      ],
      "metadata": {
        "colab": {
          "base_uri": "https://localhost:8080/"
        },
        "id": "DdyiHG_FsonP",
        "outputId": "5f7ace41-b5e4-4da2-cdb1-76bc66ab45de"
      },
      "execution_count": null,
      "outputs": [
        {
          "output_type": "stream",
          "name": "stdout",
          "text": [
            "Enter the index of the seat you want to view: 3\n",
            "Seat details:\n",
            "Seat number: B2\n",
            "Section: General\n",
            "Availability: Available\n"
          ]
        }
      ]
    },
    {
      "cell_type": "code",
      "source": [
        "def open_file(filename):\n",
        "    try:\n",
        "        # Attempt to open the specified file in read mode\n",
        "        file = open(filename, 'r')\n",
        "\n",
        "        # Read the contents of the file and store them in the 'contents' variable\n",
        "        contents = file.read()\n",
        "\n",
        "        # Print a message to indicate that the file contents will be displayed\n",
        "        print(\"File contents:\")\n",
        "        print(contents)\n",
        "\n",
        "        # Close the file to release system resources\n",
        "        file.close()\n",
        "\n",
        "    except FileNotFoundError:\n",
        "        # Handle the exception if the specified file is not found\n",
        "        print(\"Error: File not found.\")\n",
        "\n",
        "# Prompt the user to input a filename and store it in the 'file_name' variable\n",
        "file_name = input(\"Input a filename: \")\n",
        "\n",
        "# Call the open_file function with the provided filename\n",
        "open_file(file_name)\n"
      ],
      "metadata": {
        "colab": {
          "base_uri": "https://localhost:8080/"
        },
        "id": "SVhUwElGstXf",
        "outputId": "573df448-873b-4f35-9c1a-4cf2ece6fca9"
      },
      "execution_count": null,
      "outputs": [
        {
          "output_type": "stream",
          "name": "stdout",
          "text": [
            "Input a filename: saireddy.txt\n",
            "Error: File not found.\n"
          ]
        }
      ]
    },
    {
      "cell_type": "code",
      "source": [
        "def get_age():\n",
        "    while True:\n",
        "        try:\n",
        "            age = int(input(\"Please enter your age: \"))\n",
        "            if age < 0:\n",
        "                raise ValueError(\"Age cannot be negative.\")\n",
        "            return age\n",
        "        except ValueError as ve:\n",
        "            print(\"Invalid input:\", ve)\n",
        "\n",
        "# Example usage:\n",
        "user_age = get_age()\n",
        "print(\"Your age is:\", user_age)\n"
      ],
      "metadata": {
        "colab": {
          "base_uri": "https://localhost:8080/"
        },
        "id": "Gr26JqINtBf3",
        "outputId": "5cf37d32-857b-4dba-ae3c-9a1f57769bda"
      },
      "execution_count": null,
      "outputs": [
        {
          "output_type": "stream",
          "name": "stdout",
          "text": [
            "Please enter your age: abc\n",
            "Invalid input: invalid literal for int() with base 10: 'abc'\n",
            "Please enter your age: -12\n",
            "Invalid input: Age cannot be negative.\n",
            "Please enter your age: 1\n",
            "Your age is: 1\n"
          ]
        }
      ]
    }
  ]
}