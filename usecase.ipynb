{
  "nbformat": 4,
  "nbformat_minor": 0,
  "metadata": {
    "colab": {
      "provenance": [],
      "include_colab_link": true
    },
    "kernelspec": {
      "name": "python3",
      "display_name": "Python 3"
    },
    "language_info": {
      "name": "python"
    }
  },
  "cells": [
    {
      "cell_type": "markdown",
      "metadata": {
        "id": "view-in-github",
        "colab_type": "text"
      },
      "source": [
        "<a href=\"https://colab.research.google.com/github/varshithhhhh/python/blob/main/usecase.ipynb\" target=\"_parent\"><img src=\"https://colab.research.google.com/assets/colab-badge.svg\" alt=\"Open In Colab\"/></a>"
      ]
    },
    {
      "cell_type": "code",
      "source": [
        "# Import the NumPy library\n",
        "import numpy as np\n",
        "\n",
        "# Function to simulate rolling a dice\n",
        "def roll_dice():\n",
        "    # Generate a random number between 1 and 6\n",
        "    dice_value = np.random.randint(1, 7)\n",
        "    return dice_value\n",
        "\n",
        "# Main program\n",
        "print(\"🎲 Welcome to the Dice Rolling Simulator! 🎲\")\n",
        "\n",
        "while True:\n",
        "    input(\"Press Enter to roll the dice... \")\n",
        "    result = roll_dice()\n",
        "    print(f\"You rolled a {result}!\\n\")\n",
        "\n",
        "    # Ask user if they want to roll again\n",
        "    choice = input(\"Do you want to roll again? (y/n): \").lower()\n",
        "    if choice != 'y':\n",
        "        print(\"Thanks for playing! Goodbye! 👋\")\n",
        "        break\n"
      ],
      "metadata": {
        "colab": {
          "base_uri": "https://localhost:8080/"
        },
        "id": "pd4nwvLC8V7e",
        "outputId": "958118af-724f-4437-9e66-fe1725929b8c"
      },
      "execution_count": null,
      "outputs": [
        {
          "output_type": "stream",
          "name": "stdout",
          "text": [
            "🎲 Welcome to the Dice Rolling Simulator! 🎲\n",
            "Press Enter to roll the dice... \n",
            "You rolled a 4!\n",
            "\n",
            "Do you want to roll again? (y/n): y\n",
            "Press Enter to roll the dice... \n",
            "You rolled a 6!\n",
            "\n",
            "Do you want to roll again? (y/n): n\n",
            "Thanks for playing! Goodbye! 👋\n"
          ]
        }
      ]
    }
  ]
}