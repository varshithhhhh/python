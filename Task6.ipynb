{
  "nbformat": 4,
  "nbformat_minor": 0,
  "metadata": {
    "colab": {
      "provenance": [],
      "include_colab_link": true
    },
    "kernelspec": {
      "name": "python3",
      "display_name": "Python 3"
    },
    "language_info": {
      "name": "python"
    }
  },
  "cells": [
    {
      "cell_type": "markdown",
      "metadata": {
        "id": "view-in-github",
        "colab_type": "text"
      },
      "source": [
        "<a href=\"https://colab.research.google.com/github/varshithhhhh/python/blob/main/Task6.ipynb\" target=\"_parent\"><img src=\"https://colab.research.google.com/assets/colab-badge.svg\" alt=\"Open In Colab\"/></a>"
      ]
    },
    {
      "cell_type": "code",
      "execution_count": null,
      "metadata": {
        "colab": {
          "base_uri": "https://localhost:8080/"
        },
        "id": "KyOtPPZinK5V",
        "outputId": "460c81f1-528b-4b38-fdd7-303b7e38fc49"
      },
      "outputs": [
        {
          "output_type": "stream",
          "name": "stdout",
          "text": [
            "Enter the file name to create: sai\n",
            "Enter the contents of the file (press Enter to finish):\n",
            "My self sai reddy]\n",
            "\n",
            "\n",
            "Contents of the file:\n",
            "My self sai reddy]\n",
            "\n",
            "\n",
            "The number of words in the file is 4\n"
          ]
        }
      ],
      "source": [
        "def create_file_and_count_words():\n",
        "    file_name = input(\"Enter the file name to create: \")\n",
        "    with open(file_name, 'w') as file:\n",
        "        print(\"Enter the contents of the file (press Enter to finish):\")\n",
        "        while True:\n",
        "            line = input()\n",
        "            if not line:\n",
        "                break\n",
        "            file.write(line + '\\n')\n",
        "\n",
        "    print(\"\\nContents of the file:\")\n",
        "    with open(file_name, 'r') as file:\n",
        "        print(file.read())\n",
        "\n",
        "    with open(file_name, 'r') as file:\n",
        "        content = file.read()\n",
        "        word_count = len(content.split())\n",
        "        print(f\"\\nThe number of words in the file is {word_count}\")\n",
        "\n",
        "create_file_and_count_words()\n"
      ]
    },
    {
      "cell_type": "code",
      "source": [
        "import os\n",
        "\n",
        "def copy_files(file_paths):\n",
        "    for file_path in file_paths:\n",
        "        if os.path.exists(file_path):\n",
        "            with open(file_path, 'r') as original_file:\n",
        "                original_content = original_file.read()\n",
        "\n",
        "            copy_file_path = file_path.split('.')[0] + '_copy.' + file_path.split('.')[1]\n",
        "            with open(copy_file_path, 'w') as copy_file:\n",
        "                copy_file.write(original_content)\n",
        "\n",
        "            print(f\"Contents copied from {file_path} to {copy_file_path} successfully.\")\n",
        "        else:\n",
        "            print(f\"Error: {file_path} does not exist.\")\n",
        "\n",
        "file_list = ['file1.txt', 'file2.txt', 'file3.txt']\n",
        "copy_files(file_list)\n"
      ],
      "metadata": {
        "id": "COHIe0BAoUTv"
      },
      "execution_count": null,
      "outputs": []
    },
    {
      "cell_type": "code",
      "source": [
        "def create_file_and_count_occurrences():\n",
        "    file_name = input(\"Enter the file name to create: \")\n",
        "    with open(file_name, 'w') as file:\n",
        "        print(\"Enter the contents of the file (press Enter to finish):\")\n",
        "        while True:\n",
        "            line = input()\n",
        "            if not line:\n",
        "                break\n",
        "            file.write(line + '\\n')\n",
        "\n",
        "    print(\"\\nContents of the file:\")\n",
        "    with open(file_name, 'r') as file:\n",
        "        print(file.read())\n",
        "\n",
        "    letter = input(\"\\nEnter the letter to count occurrences of: \")\n",
        "    with open(file_name, 'r') as file:\n",
        "        content = file.read()\n",
        "        count = content.count(letter)\n",
        "        print(f\"\\nThe letter '{letter}' occurs {count} times in the file.\")\n",
        "\n",
        "create_file_and_count_occurrences()\n"
      ],
      "metadata": {
        "colab": {
          "base_uri": "https://localhost:8080/"
        },
        "id": "uxCnSSSboVBP",
        "outputId": "2d12851c-4af6-46d7-f776-1179c3d1d35a"
      },
      "execution_count": null,
      "outputs": [
        {
          "output_type": "stream",
          "name": "stdout",
          "text": [
            "Enter the file name to create: ananya\n",
            "Enter the contents of the file (press Enter to finish):\n",
            "MY NAME IS ANANYA W/O SAI REDDY\n",
            "\n",
            "\n",
            "Contents of the file:\n",
            "MY NAME IS ANANYA W/O SAI REDDY\n",
            "\n",
            "\n",
            "Enter the letter to count occurrences of: A\n",
            "\n",
            "The letter 'A' occurs 5 times in the file.\n"
          ]
        }
      ]
    },
    {
      "cell_type": "code",
      "source": [
        "import csv\n",
        "\n",
        "with open(\"apple_quality.csv\", 'r') as file:\n",
        "    data = csv.reader(file)\n",
        "    for row in data:\n",
        "        print(row)\n"
      ],
      "metadata": {
        "id": "X4iYEsWTogmG"
      },
      "execution_count": null,
      "outputs": []
    }
  ]
}