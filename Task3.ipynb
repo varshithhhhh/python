{
  "nbformat": 4,
  "nbformat_minor": 0,
  "metadata": {
    "colab": {
      "provenance": [],
      "include_colab_link": true
    },
    "kernelspec": {
      "name": "python3",
      "display_name": "Python 3"
    },
    "language_info": {
      "name": "python"
    }
  },
  "cells": [
    {
      "cell_type": "markdown",
      "metadata": {
        "id": "view-in-github",
        "colab_type": "text"
      },
      "source": [
        "<a href=\"https://colab.research.google.com/github/varshithhhhh/python/blob/main/Task3.ipynb\" target=\"_parent\"><img src=\"https://colab.research.google.com/assets/colab-badge.svg\" alt=\"Open In Colab\"/></a>"
      ]
    },
    {
      "cell_type": "code",
      "execution_count": null,
      "metadata": {
        "colab": {
          "base_uri": "https://localhost:8080/"
        },
        "id": "cARTo4SwhxRS",
        "outputId": "b706bb81-8a11-4ae9-a8ba-31d12081e47c"
      },
      "outputs": [
        {
          "output_type": "stream",
          "name": "stdout",
          "text": [
            "Enter a number: 24\n",
            "24 is not an Armstrong number\n"
          ]
        }
      ],
      "source": [
        "from math import pow\n",
        "\n",
        "def compute_armstrong(x):\n",
        "    n = len(str(x))\n",
        "    armstrong_sum = sum(pow(int(i), n) for i in str(x))\n",
        "    return armstrong_sum == x\n",
        "\n",
        "number = int(input(\"Enter a number: \"))\n",
        "\n",
        "if compute_armstrong(number):\n",
        "    print(f\"{number} is an Armstrong number\")\n",
        "else:\n",
        "    print(f\"{number} is not an Armstrong number\")\n"
      ]
    },
    {
      "cell_type": "code",
      "source": [
        "import math\n",
        "\n",
        "def edistance(x, y):\n",
        "    distance = math.sqrt((y[0] - x[0])**2 + (y[1] - x[1])**2)\n",
        "    return distance\n",
        "\n",
        "x = (1, 3)\n",
        "y = (2, 3)\n",
        "\n",
        "result = edistance(x, y)\n",
        "print(\"Euclidean distance b/w x and y:\", result)\n"
      ],
      "metadata": {
        "colab": {
          "base_uri": "https://localhost:8080/"
        },
        "id": "hrSxau_ZikJG",
        "outputId": "9c365cd4-e8de-409c-9a6f-58f21b8fa5c6"
      },
      "execution_count": null,
      "outputs": [
        {
          "output_type": "stream",
          "name": "stdout",
          "text": [
            "Euclidean distance b/w x and y: 1.0\n"
          ]
        }
      ]
    },
    {
      "cell_type": "code",
      "source": [
        "import datetime\n",
        "\n",
        "input_date = input(\"Enter the date in MM DD YYYY format: \")\n",
        "month, day, year = map(int, input_date.split())\n",
        "\n",
        "if 2000 <= year < 3000:\n",
        "    x = datetime.datetime(year, month, day)\n",
        "    day_name = x.strftime(\"%A\").upper()\n",
        "    print(day_name)\n",
        "else:\n",
        "    print(\"Year is not within the specified constraints\")\n"
      ],
      "metadata": {
        "colab": {
          "base_uri": "https://localhost:8080/"
        },
        "id": "rUiAMDLditm3",
        "outputId": "7aca47f9-6afa-4103-931f-1141da62ce2e"
      },
      "execution_count": null,
      "outputs": [
        {
          "output_type": "stream",
          "name": "stdout",
          "text": [
            "Enter the date in MM DD YYYY format: 12 16 2007\n",
            "SUNDAY\n"
          ]
        }
      ]
    },
    {
      "cell_type": "code",
      "source": [],
      "metadata": {
        "id": "EUo3VWsbi8J2"
      },
      "execution_count": null,
      "outputs": []
    }
  ]
}