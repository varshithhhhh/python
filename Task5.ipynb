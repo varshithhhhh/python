{
  "nbformat": 4,
  "nbformat_minor": 0,
  "metadata": {
    "colab": {
      "provenance": [],
      "include_colab_link": true
    },
    "kernelspec": {
      "name": "python3",
      "display_name": "Python 3"
    },
    "language_info": {
      "name": "python"
    }
  },
  "cells": [
    {
      "cell_type": "markdown",
      "metadata": {
        "id": "view-in-github",
        "colab_type": "text"
      },
      "source": [
        "<a href=\"https://colab.research.google.com/github/varshithhhhh/python/blob/main/Task5.ipynb\" target=\"_parent\"><img src=\"https://colab.research.google.com/assets/colab-badge.svg\" alt=\"Open In Colab\"/></a>"
      ]
    },
    {
      "cell_type": "code",
      "execution_count": null,
      "metadata": {
        "colab": {
          "base_uri": "https://localhost:8080/"
        },
        "id": "7mWnbT3Hlo_C",
        "outputId": "72e26bc9-4042-4176-82f6-da3ee0bb90f6"
      },
      "outputs": [
        {
          "output_type": "stream",
          "name": "stdout",
          "text": [
            "Element 60 is present at index 4\n"
          ]
        }
      ],
      "source": [
        "# Program\n",
        "\n",
        "def search(arr, x):\n",
        "    for i in range(len(arr)):\n",
        "        if arr[i] == x:\n",
        "            return i\n",
        "    return -1\n",
        "\n",
        "# Example\n",
        "\n",
        "arr = [10, 20, 80, 30, 60, 50, 110, 100, 130, 170]\n",
        "x = 60\n",
        "\n",
        "result = search(arr, x)\n",
        "\n",
        "if result != -1:\n",
        "    print(\"Element\", x, \"is present at index\", result)\n",
        "else:\n",
        "    print(\"Element\", x, \"is not present in array\")"
      ]
    },
    {
      "cell_type": "code",
      "source": [
        "def binary_search(nums, target):\n",
        "    left = 0\n",
        "    right = len(nums) - 1\n",
        "\n",
        "    while left <= right:\n",
        "        mid = left + (right - left) // 2\n",
        "\n",
        "        if nums[mid] == target:\n",
        "            return mid\n",
        "        elif nums[mid] < target:\n",
        "            left = mid + 1\n",
        "        else:\n",
        "            right = mid - 1\n",
        "\n",
        "    return -1\n",
        "\n",
        "\n",
        "nums = [-1, 0, 3, 5, 9, 12]\n",
        "target = 12\n",
        "print(binary_search(nums, target))\n"
      ],
      "metadata": {
        "colab": {
          "base_uri": "https://localhost:8080/"
        },
        "id": "GJ6G2sbQmq9x",
        "outputId": "d8c6235b-f284-4667-9a0d-9002368007d5"
      },
      "execution_count": null,
      "outputs": [
        {
          "output_type": "stream",
          "name": "stdout",
          "text": [
            "5\n"
          ]
        }
      ]
    },
    {
      "cell_type": "code",
      "source": [
        "def bubble_sort(arr):\n",
        "    n = len(arr)\n",
        "    for i in range(n):\n",
        "        for j in range(0, n - i - 1):\n",
        "            if arr[j] > arr[j + 1]:\n",
        "                arr[j], arr[j + 1] = arr[j + 1], arr[j]\n",
        "\n",
        "\n",
        "def find_sequence(arr):\n",
        "    smallest = arr[0]\n",
        "    largest = arr[-1]\n",
        "    print(\"Sequence of integers:\", smallest, \"to\", largest)\n",
        "\n",
        "\n",
        "n = int(input(\"Enter the no. of integers: \"))\n",
        "integers = []\n",
        "\n",
        "print(\"Enter the integers:\")\n",
        "for i in range(n):\n",
        "    integers.append(int(input()))\n",
        "\n",
        "bubble_sort(integers)\n",
        "find_sequence(integers)\n"
      ],
      "metadata": {
        "colab": {
          "base_uri": "https://localhost:8080/"
        },
        "id": "PVhLWIypmum_",
        "outputId": "ba8d8f64-c1f3-4ac8-ab90-68519fd3691c"
      },
      "execution_count": null,
      "outputs": [
        {
          "output_type": "stream",
          "name": "stdout",
          "text": [
            "Enter the no. of integers: 4\n",
            "Enter the integers:\n",
            "10\n",
            "50\n",
            "69\n",
            "34\n",
            "Sequence of integers: 10 to 69\n"
          ]
        }
      ]
    },
    {
      "cell_type": "code",
      "source": [
        "def selection_sort(scores):\n",
        "    n = len(scores)\n",
        "    for i in range(n):\n",
        "        min_index = i\n",
        "        for j in range(i + 1, n):\n",
        "            if scores[j] < scores[min_index]:\n",
        "                min_index = j\n",
        "        scores[i], scores[min_index] = scores[min_index], scores[i]\n",
        "        print(\"After iteration\", i + 1, \":\", scores)\n",
        "\n",
        "\n",
        "exam_scores = [87, 65, 92, 78, 55, 76, 82]\n",
        "print(\"Initial exam scores:\", exam_scores)\n",
        "print(\"Sorting using selection sort...\")\n",
        "selection_sort(exam_scores)\n",
        "print(\"Final sorted exam scores:\", exam_scores)\n"
      ],
      "metadata": {
        "colab": {
          "base_uri": "https://localhost:8080/"
        },
        "id": "P_Hf4LXqm1Xm",
        "outputId": "94bdbe72-8503-487b-b8dd-8811dadbfb88"
      },
      "execution_count": null,
      "outputs": [
        {
          "output_type": "stream",
          "name": "stdout",
          "text": [
            "Initial exam scores: [87, 65, 92, 78, 55, 76, 82]\n",
            "Sorting using selection sort...\n",
            "After iteration 1 : [55, 65, 92, 78, 87, 76, 82]\n",
            "After iteration 2 : [55, 65, 92, 78, 87, 76, 82]\n",
            "After iteration 3 : [55, 65, 76, 78, 87, 92, 82]\n",
            "After iteration 4 : [55, 65, 76, 78, 87, 92, 82]\n",
            "After iteration 5 : [55, 65, 76, 78, 82, 92, 87]\n",
            "After iteration 6 : [55, 65, 76, 78, 82, 87, 92]\n",
            "After iteration 7 : [55, 65, 76, 78, 82, 87, 92]\n",
            "Final sorted exam scores: [55, 65, 76, 78, 82, 87, 92]\n"
          ]
        }
      ]
    }
  ]
}